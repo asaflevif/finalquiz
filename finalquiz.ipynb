{
 "cells": [
  {
   "cell_type": "markdown",
   "id": "a0039df8",
   "metadata": {},
   "source": [
    "# My Jupyter Notebook on IBM Watson Studio"
   ]
  },
  {
   "cell_type": "markdown",
   "id": "1d0a4756",
   "metadata": {},
   "source": [
    "**Name: Asaf Franco**\n",
    "\n",
    "Dessired ocuppation: Data Scientist"
   ]
  },
  {
   "cell_type": "markdown",
   "id": "a48785e7",
   "metadata": {},
   "source": [
    "*I am interested in data science because is one of the new jobs that have a very promising future and I want to be part of that future. And obviously, for the paying. They say it is a ver well paid job*"
   ]
  },
  {
   "cell_type": "markdown",
   "id": "e4c4c7e7",
   "metadata": {},
   "source": [
    "### The following code prints the traditional \"Hello World\" string"
   ]
  },
  {
   "cell_type": "code",
   "execution_count": 1,
   "id": "4a7d71ee",
   "metadata": {},
   "outputs": [
    {
     "name": "stdout",
     "output_type": "stream",
     "text": [
      "Hello World\n"
     ]
    }
   ],
   "source": [
    "print(\"Hello World\")"
   ]
  },
  {
   "cell_type": "markdown",
   "id": "04346cb0",
   "metadata": {},
   "source": [
    "***\n",
    "The following is a bullet list for the quiz:\n",
    "* Bullet number 1\n",
    "* Bullet number 2\n",
    "* Bullet number 3\n",
    "\n",
    "***"
   ]
  }
 ],
 "metadata": {
  "kernelspec": {
   "display_name": "Python 3 (ipykernel)",
   "language": "python",
   "name": "python3"
  },
  "language_info": {
   "codemirror_mode": {
    "name": "ipython",
    "version": 3
   },
   "file_extension": ".py",
   "mimetype": "text/x-python",
   "name": "python",
   "nbconvert_exporter": "python",
   "pygments_lexer": "ipython3",
   "version": "3.9.13"
  }
 },
 "nbformat": 4,
 "nbformat_minor": 5
}
